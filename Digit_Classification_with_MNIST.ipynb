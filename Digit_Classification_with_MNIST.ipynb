{
  "nbformat": 4,
  "nbformat_minor": 0,
  "metadata": {
    "colab": {
      "name": "Digit_Classification_with_MNIST.ipynb",
      "provenance": [],
      "collapsed_sections": [],
      "authorship_tag": "ABX9TyMPOqgl4pbyPj8l2FF5htob",
      "include_colab_link": true
    },
    "kernelspec": {
      "name": "python3",
      "display_name": "Python 3"
    },
    "language_info": {
      "name": "python"
    },
    "accelerator": "GPU"
  },
  "cells": [
    {
      "cell_type": "markdown",
      "metadata": {
        "id": "view-in-github",
        "colab_type": "text"
      },
      "source": [
        "<a href=\"https://colab.research.google.com/github/rsfwalters/NEU-OB-MLP/blob/main/Digit_Classification_with_MNIST.ipynb\" target=\"_parent\"><img src=\"https://colab.research.google.com/assets/colab-badge.svg\" alt=\"Open In Colab\"/></a>"
      ]
    },
    {
      "cell_type": "markdown",
      "source": [
        "Dataset"
      ],
      "metadata": {
        "id": "0tLaZZQLijXG"
      }
    },
    {
      "cell_type": "code",
      "source": [
        "%%capture\n",
        "from torchvision.datasets import MNIST\n",
        "from torchvision.transforms import ToTensor\n",
        "\n",
        "# download dataset\n",
        "train_data = MNIST(root='data', train=True, transform=ToTensor(), download=True)\n",
        "test_data = MNIST(root='data', train=False, transform=ToTensor(), download=True)"
      ],
      "metadata": {
        "id": "lVWMPvjAipP_"
      },
      "execution_count": 2,
      "outputs": []
    },
    {
      "cell_type": "code",
      "source": [
        "# print stats about datasets\n",
        "print(train_data[0])\n",
        "print(test_data)"
      ],
      "metadata": {
        "id": "20BBNo8PjRH5"
      },
      "execution_count": null,
      "outputs": []
    },
    {
      "cell_type": "markdown",
      "source": [
        "Model"
      ],
      "metadata": {
        "id": "Fyk0M-IbilA4"
      }
    },
    {
      "cell_type": "code",
      "source": [
        "from torch import nn\n",
        "\n",
        "NUM_CLASSES = 10\n",
        "\n",
        "model = nn.Sequential(\n",
        "    nn.Flatten(),\n",
        "    nn.Linear(28*28, 256),\n",
        "    nn.ReLU(True),\n",
        "    nn.Linear(256, 256),\n",
        "    nn.ReLU(True),\n",
        "    nn.Linear(256, 10),\n",
        ").cuda()"
      ],
      "metadata": {
        "id": "NV_JWMKlnHHA"
      },
      "execution_count": 24,
      "outputs": []
    },
    {
      "cell_type": "markdown",
      "source": [
        "Train"
      ],
      "metadata": {
        "id": "FhHFbZUOimy5"
      }
    },
    {
      "cell_type": "code",
      "source": [
        "import time\n",
        "import torch\n",
        "from torch.nn.modules.container import ModuleList\n",
        "from torch.utils.data import DataLoader\n",
        "\n",
        "# list hyperparameters\n",
        "BATCH_SIZE = 256\n",
        "NUM_EPOCHS = 50\n",
        "LEARNING_RATE = 0.001\n",
        "\n",
        "optimizer = torch.optim.Adam(model.parameters(), lr=LEARNING_RATE)\n",
        "\n",
        "# create dataloaders\n",
        "train_dataloader = DataLoader(train_data, batch_size=BATCH_SIZE, shuffle=True)\n",
        "test_dataloader = DataLoader(test_data, batch_size=BATCH_SIZE, shuffle=True)\n",
        "\n",
        "for epoch in range(NUM_EPOCHS):\n",
        "  t = time.perf_counter()\n",
        "\n",
        "  train_losses = []\n",
        "  for imgs, labels in train_dataloader:\n",
        "    imgs, labels = imgs.cuda(), labels.cuda()\n",
        "\n",
        "    optimizer.zero_grad()\n",
        "    pred_labels = model(imgs)\n",
        "    loss = nn.CrossEntropyLoss()(pred_labels, labels)\n",
        "    loss.backward()\n",
        "    optimizer.step()\n",
        "    \n",
        "    train_losses.append(loss.item())\n",
        "  \n",
        "  test_losses = []\n",
        "  for imgs, labels in test_dataloader:\n",
        "    imgs, labels = imgs.cuda(), labels.cuda()\n",
        "\n",
        "    pred_labels = model(imgs)\n",
        "    test_losses.append(loss.item())\n",
        "  \n",
        "  elapsed_time = time.perf_counter() - t\n",
        "  avg_train_loss = sum(train_losses) / len(train_losses)\n",
        "  avg_test_loss = sum(test_losses) / len(test_losses)\n",
        "  print('Epoch {}/{}: TRAIN LOSS={:.4f} | TEST LOSS={:.4f} | time={:.1f} s'.format(\n",
        "       epoch, NUM_EPOCHS, avg_train_loss, avg_test_loss, elapsed_time)\n",
        "  )"
      ],
      "metadata": {
        "colab": {
          "base_uri": "https://localhost:8080/"
        },
        "id": "NW1l4cpmj8CE",
        "outputId": "4279471a-157a-4433-ed2b-3b686709cdc3"
      },
      "execution_count": 25,
      "outputs": [
        {
          "output_type": "stream",
          "name": "stdout",
          "text": [
            "Epoch 0/50: TRAIN LOSS=0.4080 | TEST LOSS=0.1596 | time=5.6 s\n",
            "Epoch 1/50: TRAIN LOSS=0.1499 | TEST LOSS=0.1842 | time=5.8 s\n",
            "Epoch 2/50: TRAIN LOSS=0.1000 | TEST LOSS=0.0471 | time=6.4 s\n",
            "Epoch 3/50: TRAIN LOSS=0.0729 | TEST LOSS=0.1370 | time=6.5 s\n",
            "Epoch 4/50: TRAIN LOSS=0.0562 | TEST LOSS=0.0944 | time=5.5 s\n",
            "Epoch 5/50: TRAIN LOSS=0.0448 | TEST LOSS=0.0484 | time=5.5 s\n",
            "Epoch 6/50: TRAIN LOSS=0.0356 | TEST LOSS=0.0121 | time=5.7 s\n",
            "Epoch 7/50: TRAIN LOSS=0.0305 | TEST LOSS=0.0873 | time=5.6 s\n",
            "Epoch 8/50: TRAIN LOSS=0.0239 | TEST LOSS=0.0090 | time=5.7 s\n",
            "Epoch 9/50: TRAIN LOSS=0.0173 | TEST LOSS=0.0940 | time=6.1 s\n",
            "Epoch 10/50: TRAIN LOSS=0.0160 | TEST LOSS=0.0130 | time=5.8 s\n",
            "Epoch 11/50: TRAIN LOSS=0.0110 | TEST LOSS=0.0012 | time=5.5 s\n",
            "Epoch 12/50: TRAIN LOSS=0.0088 | TEST LOSS=0.0297 | time=5.5 s\n",
            "Epoch 13/50: TRAIN LOSS=0.0084 | TEST LOSS=0.0003 | time=5.5 s\n",
            "Epoch 14/50: TRAIN LOSS=0.0084 | TEST LOSS=0.0024 | time=5.5 s\n",
            "Epoch 15/50: TRAIN LOSS=0.0101 | TEST LOSS=0.0018 | time=5.5 s\n",
            "Epoch 16/50: TRAIN LOSS=0.0096 | TEST LOSS=0.0004 | time=5.5 s\n",
            "Epoch 17/50: TRAIN LOSS=0.0054 | TEST LOSS=0.0004 | time=5.6 s\n",
            "Epoch 18/50: TRAIN LOSS=0.0051 | TEST LOSS=0.0003 | time=5.8 s\n",
            "Epoch 19/50: TRAIN LOSS=0.0090 | TEST LOSS=0.0447 | time=5.5 s\n",
            "Epoch 20/50: TRAIN LOSS=0.0065 | TEST LOSS=0.0149 | time=5.5 s\n",
            "Epoch 21/50: TRAIN LOSS=0.0050 | TEST LOSS=0.0047 | time=5.5 s\n",
            "Epoch 22/50: TRAIN LOSS=0.0079 | TEST LOSS=0.0029 | time=5.5 s\n",
            "Epoch 23/50: TRAIN LOSS=0.0029 | TEST LOSS=0.0004 | time=5.5 s\n",
            "Epoch 24/50: TRAIN LOSS=0.0010 | TEST LOSS=0.0001 | time=5.5 s\n",
            "Epoch 25/50: TRAIN LOSS=0.0003 | TEST LOSS=0.0001 | time=5.5 s\n",
            "Epoch 26/50: TRAIN LOSS=0.0001 | TEST LOSS=0.0001 | time=5.5 s\n",
            "Epoch 27/50: TRAIN LOSS=0.0001 | TEST LOSS=0.0001 | time=5.5 s\n",
            "Epoch 28/50: TRAIN LOSS=0.0001 | TEST LOSS=0.0001 | time=5.5 s\n",
            "Epoch 29/50: TRAIN LOSS=0.0001 | TEST LOSS=0.0001 | time=5.5 s\n",
            "Epoch 30/50: TRAIN LOSS=0.0001 | TEST LOSS=0.0001 | time=5.5 s\n",
            "Epoch 31/50: TRAIN LOSS=0.0000 | TEST LOSS=0.0000 | time=5.4 s\n",
            "Epoch 32/50: TRAIN LOSS=0.0000 | TEST LOSS=0.0000 | time=5.5 s\n",
            "Epoch 33/50: TRAIN LOSS=0.0000 | TEST LOSS=0.0000 | time=5.5 s\n",
            "Epoch 34/50: TRAIN LOSS=0.0000 | TEST LOSS=0.0000 | time=5.5 s\n",
            "Epoch 35/50: TRAIN LOSS=0.0000 | TEST LOSS=0.0000 | time=5.5 s\n",
            "Epoch 36/50: TRAIN LOSS=0.0000 | TEST LOSS=0.0000 | time=5.5 s\n",
            "Epoch 37/50: TRAIN LOSS=0.0000 | TEST LOSS=0.0000 | time=5.5 s\n",
            "Epoch 38/50: TRAIN LOSS=0.0000 | TEST LOSS=0.0000 | time=5.5 s\n",
            "Epoch 39/50: TRAIN LOSS=0.0000 | TEST LOSS=0.0000 | time=5.5 s\n",
            "Epoch 40/50: TRAIN LOSS=0.0000 | TEST LOSS=0.0000 | time=5.5 s\n",
            "Epoch 41/50: TRAIN LOSS=0.0000 | TEST LOSS=0.0000 | time=5.5 s\n",
            "Epoch 42/50: TRAIN LOSS=0.0000 | TEST LOSS=0.0000 | time=5.4 s\n",
            "Epoch 43/50: TRAIN LOSS=0.0000 | TEST LOSS=0.0000 | time=5.5 s\n",
            "Epoch 44/50: TRAIN LOSS=0.0000 | TEST LOSS=0.0000 | time=5.4 s\n",
            "Epoch 45/50: TRAIN LOSS=0.0000 | TEST LOSS=0.0000 | time=5.5 s\n",
            "Epoch 46/50: TRAIN LOSS=0.0000 | TEST LOSS=0.0000 | time=5.5 s\n",
            "Epoch 47/50: TRAIN LOSS=0.0000 | TEST LOSS=0.0000 | time=5.5 s\n",
            "Epoch 48/50: TRAIN LOSS=0.0000 | TEST LOSS=0.0000 | time=5.5 s\n",
            "Epoch 49/50: TRAIN LOSS=0.0000 | TEST LOSS=0.0000 | time=5.6 s\n"
          ]
        }
      ]
    },
    {
      "cell_type": "code",
      "source": [
        "# plot learning curves"
      ],
      "metadata": {
        "id": "B4b0WeRWkCGb"
      },
      "execution_count": null,
      "outputs": []
    },
    {
      "cell_type": "markdown",
      "source": [
        "Evaluate"
      ],
      "metadata": {
        "id": "CpiqX3QQinnR"
      }
    },
    {
      "cell_type": "code",
      "source": [
        "# plot confusion matrix\n",
        "# plot incorrect predictions"
      ],
      "metadata": {
        "id": "Md-XbSMNvMNe"
      },
      "execution_count": null,
      "outputs": []
    }
  ]
}
{
  "nbformat": 4,
  "nbformat_minor": 0,
  "metadata": {
    "colab": {
      "name": "Predicting_Stock_Prices.ipynb",
      "provenance": [],
      "authorship_tag": "ABX9TyOz1Dv8EJzn3PT6gkUhvtuk",
      "include_colab_link": true
    },
    "kernelspec": {
      "name": "python3",
      "display_name": "Python 3"
    },
    "language_info": {
      "name": "python"
    },
    "accelerator": "GPU"
  },
  "cells": [
    {
      "cell_type": "markdown",
      "metadata": {
        "id": "view-in-github",
        "colab_type": "text"
      },
      "source": [
        "<a href=\"https://colab.research.google.com/github/rsfwalters/NEU-OB-MLP/blob/main/Predicting_Stock_Prices.ipynb\" target=\"_parent\"><img src=\"https://colab.research.google.com/assets/colab-badge.svg\" alt=\"Open In Colab\"/></a>"
      ]
    },
    {
      "cell_type": "markdown",
      "source": [
        "# Stock Price Prediction\n",
        "In this notebook, you will look at methods to predict stock values"
      ],
      "metadata": {
        "id": "4h6j_u2VoFpw"
      }
    },
    {
      "cell_type": "code",
      "source": [
        "# import libraries for this notebook\n",
        "import time\n",
        "import numpy as np\n",
        "import torch\n",
        "import torch.nn as nn\n",
        "from torch.utils.data import DataLoader\n",
        "import matplotlib.pyplot as plt"
      ],
      "metadata": {
        "id": "UOuEfVdeoE0R"
      },
      "execution_count": 20,
      "outputs": []
    },
    {
      "cell_type": "code",
      "source": [
        "%%capture\n",
        "!pip install yfinance\n",
        "import yfinance as yf"
      ],
      "metadata": {
        "id": "xSBZKG8ypRm7"
      },
      "execution_count": 21,
      "outputs": []
    },
    {
      "cell_type": "markdown",
      "source": [
        "# 1. Download Data"
      ],
      "metadata": {
        "id": "OHOI53udo3JB"
      }
    },
    {
      "cell_type": "code",
      "source": [
        "# Ticker Symbols\n",
        "# for full list, see https://stockanalysis.com/stocks/\n",
        "symbols = {'microsoft' : 'MSFT',\n",
        "           'apple'     : 'AAPL',\n",
        "           'google'    : 'GOOG',\n",
        "           'meta'      : 'FB',\n",
        "           'netflix'   : 'NFLX',\n",
        "           'amazon'    : 'AMZN',\n",
        "           'tesla'     : 'TSLA',\n",
        "           'nvidia'    : 'NVDA',\n",
        "           'oracle'    : 'ORCL',\n",
        "           'intel'     : 'INTC',\n",
        "           }\n",
        "\n",
        "# train on data from 2010 - 2020\n",
        "# test on data from 2020 - present\n",
        "train_dates = ('2010-1-1', '2020-12-31')\n",
        "test_dates = ('2020-1-1', '2022-6-1')\n",
        "\n",
        "def load_stock_data(symbols, start, end):\n",
        "  data = {}\n",
        "  for name, ticker in symbols.items():\n",
        "    tmp = yf.Ticker(symbol).history(period='1d', start=start, end=end)\n",
        "    data['name'] = tmp['Close'].to_numpy().astype(np.float32)\n",
        "\n",
        "  return data\n",
        "\n"
      ],
      "metadata": {
        "id": "Xf917eh2ro6l"
      },
      "execution_count": 22,
      "outputs": []
    },
    {
      "cell_type": "code",
      "source": [
        "# create torch dataset\n",
        "# allow them to plot stocks"
      ],
      "metadata": {
        "colab": {
          "base_uri": "https://localhost:8080/",
          "height": 255
        },
        "id": "x1boajN8pPEj",
        "outputId": "7806baa7-037e-41c8-a9ec-8b8601ae9a4e"
      },
      "execution_count": 19,
      "outputs": [
        {
          "output_type": "error",
          "ename": "NameError",
          "evalue": "ignored",
          "traceback": [
            "\u001b[0;31m---------------------------------------------------------------------------\u001b[0m",
            "\u001b[0;31mNameError\u001b[0m                                 Traceback (most recent call last)",
            "\u001b[0;32m<ipython-input-19-a71e083314f7>\u001b[0m in \u001b[0;36m<module>\u001b[0;34m()\u001b[0m\n\u001b[0;32m----> 1\u001b[0;31m \u001b[0mload_stock_data\u001b[0m\u001b[0;34m(\u001b[0m\u001b[0;34m'MSFT'\u001b[0m\u001b[0;34m,\u001b[0m \u001b[0;34m*\u001b[0m\u001b[0mtrain_dates\u001b[0m\u001b[0;34m)\u001b[0m\u001b[0;34m\u001b[0m\u001b[0;34m\u001b[0m\u001b[0m\n\u001b[0m",
            "\u001b[0;32m<ipython-input-18-3057d01a9fea>\u001b[0m in \u001b[0;36mload_stock_data\u001b[0;34m(symbol, start, end)\u001b[0m\n\u001b[1;32m     20\u001b[0m   \u001b[0mdata\u001b[0m \u001b[0;34m=\u001b[0m \u001b[0myf\u001b[0m\u001b[0;34m.\u001b[0m\u001b[0mTicker\u001b[0m\u001b[0;34m(\u001b[0m\u001b[0msymbol\u001b[0m\u001b[0;34m)\u001b[0m\u001b[0;34m.\u001b[0m\u001b[0mhistory\u001b[0m\u001b[0;34m(\u001b[0m\u001b[0mperiod\u001b[0m\u001b[0;34m=\u001b[0m\u001b[0;34m'1d'\u001b[0m\u001b[0;34m,\u001b[0m \u001b[0mstart\u001b[0m\u001b[0;34m=\u001b[0m\u001b[0mstart\u001b[0m\u001b[0;34m,\u001b[0m \u001b[0mend\u001b[0m\u001b[0;34m=\u001b[0m\u001b[0mend\u001b[0m\u001b[0;34m)\u001b[0m\u001b[0;34m\u001b[0m\u001b[0;34m\u001b[0m\u001b[0m\n\u001b[1;32m     21\u001b[0m   \u001b[0;31m# we use stock price at the close of each day\u001b[0m\u001b[0;34m\u001b[0m\u001b[0;34m\u001b[0m\u001b[0;34m\u001b[0m\u001b[0m\n\u001b[0;32m---> 22\u001b[0;31m   \u001b[0;32mreturn\u001b[0m \u001b[0mdata\u001b[0m\u001b[0;34m[\u001b[0m\u001b[0;34m'Close'\u001b[0m\u001b[0;34m]\u001b[0m\u001b[0;34m.\u001b[0m\u001b[0mto_numpy\u001b[0m\u001b[0;34m(\u001b[0m\u001b[0;34m)\u001b[0m\u001b[0;34m.\u001b[0m\u001b[0mastype\u001b[0m\u001b[0;34m(\u001b[0m\u001b[0mnp\u001b[0m\u001b[0;34m.\u001b[0m\u001b[0mfloat32\u001b[0m\u001b[0;34m)\u001b[0m\u001b[0;34m\u001b[0m\u001b[0;34m\u001b[0m\u001b[0m\n\u001b[0m",
            "\u001b[0;31mNameError\u001b[0m: name 'np' is not defined"
          ]
        }
      ]
    },
    {
      "cell_type": "markdown",
      "source": [
        "# 2. Model"
      ],
      "metadata": {
        "id": "SBD04Id1ycM0"
      }
    },
    {
      "cell_type": "code",
      "source": [
        "INPUT_SIZE = 30\n",
        "HIDDEN_SIZE = 16\n",
        "OUTPUT_SIZE = 1\n",
        "\n",
        "model = torch.nn.Sequential(\n",
        "    nn.Linear(INPUT_SIZE, HIDDEN_SIZE),\n",
        "    nn.ReLU(True),\n",
        "    nn.Linear(HIDDEN_SIZE, OUTPUT_SIZE),\n",
        ").cuda()\n",
        "\n",
        "def reset_weights(m):\n",
        "  if isinstance(m, nn.Linear):\n",
        "    m.reset_parameters()\n",
        "\n",
        "# The number of learnable values within the network\n",
        "num_weights =  sum(p.numel() for p in model.parameters())\n",
        "print(f\"This model has {num_weights:,} weights.\")"
      ],
      "metadata": {
        "colab": {
          "base_uri": "https://localhost:8080/",
          "height": 238
        },
        "id": "ZD_6ONt9yd7Z",
        "outputId": "a38b45fe-eb0d-4813-94e7-f114c79e3000"
      },
      "execution_count": 1,
      "outputs": [
        {
          "output_type": "error",
          "ename": "NameError",
          "evalue": "ignored",
          "traceback": [
            "\u001b[0;31m---------------------------------------------------------------------------\u001b[0m",
            "\u001b[0;31mNameError\u001b[0m                                 Traceback (most recent call last)",
            "\u001b[0;32m<ipython-input-1-232425cd91ff>\u001b[0m in \u001b[0;36m<module>\u001b[0;34m()\u001b[0m\n\u001b[1;32m      3\u001b[0m \u001b[0mOUTPUT_SIZE\u001b[0m \u001b[0;34m=\u001b[0m \u001b[0;36m1\u001b[0m\u001b[0;34m\u001b[0m\u001b[0;34m\u001b[0m\u001b[0m\n\u001b[1;32m      4\u001b[0m \u001b[0;34m\u001b[0m\u001b[0m\n\u001b[0;32m----> 5\u001b[0;31m model = torch.nn.Sequential(\n\u001b[0m\u001b[1;32m      6\u001b[0m     \u001b[0mnn\u001b[0m\u001b[0;34m.\u001b[0m\u001b[0mLinear\u001b[0m\u001b[0;34m(\u001b[0m\u001b[0mINPUT_SIZE\u001b[0m\u001b[0;34m,\u001b[0m \u001b[0mHIDDEN_SIZE\u001b[0m\u001b[0;34m)\u001b[0m\u001b[0;34m,\u001b[0m\u001b[0;34m\u001b[0m\u001b[0;34m\u001b[0m\u001b[0m\n\u001b[1;32m      7\u001b[0m     \u001b[0mnn\u001b[0m\u001b[0;34m.\u001b[0m\u001b[0mReLU\u001b[0m\u001b[0;34m(\u001b[0m\u001b[0;32mTrue\u001b[0m\u001b[0;34m)\u001b[0m\u001b[0;34m,\u001b[0m\u001b[0;34m\u001b[0m\u001b[0;34m\u001b[0m\u001b[0m\n",
            "\u001b[0;31mNameError\u001b[0m: name 'torch' is not defined"
          ]
        }
      ]
    },
    {
      "cell_type": "markdown",
      "source": [
        "# 3. Training"
      ],
      "metadata": {
        "id": "7o_ujqb-yeXz"
      }
    },
    {
      "cell_type": "code",
      "source": [
        ""
      ],
      "metadata": {
        "id": "tuxNAGptygKW"
      },
      "execution_count": null,
      "outputs": []
    },
    {
      "cell_type": "markdown",
      "source": [
        "# 4. Evaluate"
      ],
      "metadata": {
        "id": "Wn-1O9NmygiC"
      }
    },
    {
      "cell_type": "code",
      "source": [
        "# why is the current data split challenging?\n",
        "# can you think of a better way to generate testing data?\n",
        "# compare it to a naive predictor of the current mean"
      ],
      "metadata": {
        "id": "zvpEyjVJyhsi"
      },
      "execution_count": null,
      "outputs": []
    }
  ]
}